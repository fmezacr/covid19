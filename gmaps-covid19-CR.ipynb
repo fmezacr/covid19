{
 "cells": [
  {
   "cell_type": "markdown",
   "metadata": {},
   "source": [
    "# Mapa de Calor - Evolución de casos COVID-19 en Costa Rica "
   ]
  },
  {
   "cell_type": "markdown",
   "metadata": {},
   "source": [
    "**Autor: Felipe Meza - fmeza@itcr.ac.cr**"
   ]
  },
  {
   "cell_type": "markdown",
   "metadata": {},
   "source": [
    "Usamos la librería **gmaps** para ubicación geográfica en mapa.\n",
    "El mapa se accede mediante el API de Google."
   ]
  },
  {
   "cell_type": "code",
   "execution_count": 1,
   "metadata": {},
   "outputs": [],
   "source": [
    "import gmaps\n",
    "\n",
    "gmaps.configure(api_key='API Key Here') # Fill in with your API key"
   ]
  },
  {
   "cell_type": "markdown",
   "metadata": {},
   "source": [
    "Se recurre a la librería **PANDAS** para la creación y subida de datos (Fuente: Reporte del Ministerio de Salud). Esta parte se lleva a cabo de forma manual, una vez creados los DataFrames, se procede únicamente a invocar el archivo."
   ]
  },
  {
   "cell_type": "code",
   "execution_count": 2,
   "metadata": {},
   "outputs": [],
   "source": [
    "import pandas as pd\n",
    "\n",
    "# 28 MARZO\n",
    "\n",
    "data28 = [['Cartago', 9.8638, -83.9162, 5], \n",
    "        ['La Union', 9.9230, -84.0015, 7], \n",
    "       ['Alajuela', 10.0159, -84.2142, 53],\n",
    "       ['San Jose', 9.9281, -84.0907, 29], \n",
    "       ['Santa Ana', 9.9313, -84.1821, 16], \n",
    "       ['Escazu', 9.9207, -84.1462, 16],\n",
    "       ['Grecia', 10.0731, -84.3123, 13], \n",
    "       ['Desamparados', 9.8970, -84.0617, 11], \n",
    "       ['Tibas', 9.9576, -84.0816, 11], \n",
    "       ['Goicoechea', 9.9547, -84.0220, 10],   \n",
    "       ['Heredia', 9.9981, -84.1198, 9], \n",
    "       ['Curridabat', 9.9146, -84.0387, 8], \n",
    "       ['Montes de Oca', 9.9408, -84.0247,8], \n",
    "       ['Moravia', 10.0101, -84.0115, 8], \n",
    "       ['San Carlos', 10.4678, -84.6427, 8], \n",
    "       ['Poas', 10.1978, -84.2306, 6],\n",
    "       ['Palmares', 10.0607, -84.4378, 5],\n",
    "       ['San Pablo', 9.9968, -84.0963, 5],\n",
    "       ['San Rafael', 10.0145, -84.0986, 5],\n",
    "       ['Sarchi', 10.0898, -84.3476, 4],\n",
    "       ['Garabito', 9.8395, -84.5888, 3],\n",
    "       ['Nicoya', 10.1446, -85.4530, 3],\n",
    "       ['Oreamuno', 9.8663, -83.9030, 3],\n",
    "       ['Orotina', 9.9120, -84.5195, 3],\n",
    "       ['Perez Zeledon', 9.3547, -83.6348, 3],\n",
    "       ['San Ramon', 10.0910, -84.4704, 3],\n",
    "       ['Santo Domingo', 9.9807, -84.0909, 3],\n",
    "       ['Aserri', 9.8642, -84.0934, 2],\n",
    "       ['Atenas', 9.9785, -84.3738, 2],\n",
    "       ['Barva', 10.0191, -84.1237, 2],\n",
    "       ['Coronado', 9.9930, -83.9850, 2],\n",
    "       ['Coto Brus', 8.9540, -83.0704, 2 ],\n",
    "       ['El Guarco', 9.8449, -83.9453, 2],\n",
    "       ['Jimenez', 10.1673, -83.7730, 2],\n",
    "       ['Montes de Oro', 9.6726, -84.0480, 2],\n",
    "       ['Puntarenas', 9.9778, -84.8294, 2],\n",
    "       ['Santa Barbara', 10.0372, -84.1583, 2],\n",
    "       ['Santa Cruz', 10.2610, -85.5844, 2],\n",
    "       ['Alajuelita', 9.9016, -84.0995, 1],\n",
    "       ['Alvarado', 9.9162, -83.8096, 1],\n",
    "       ['Belen', 9.9797, -84.1804, 1],\n",
    "       ['Carrillo', 9.8689, -85.4814, 1],\n",
    "       ['Flores', 10.0016, -84.1593, 1],\n",
    "       ['Liberia', 10.6346, -85.4407, 1],\n",
    "       ['Limon', 9.9913, -83.0415, 1],\n",
    "       ['Mora', 9.9143, -84.2420, 1],\n",
    "       ['Naranjo', 10.0974, -84.3831, 1],\n",
    "       ['Tarrazu', 9.6052, -84.0379, 1],\n",
    "       ['Tilaran', 10.4564, -84.9714, 1],\n",
    "       ['Turrubares', 9.9090, -84.4409, 1]] \n",
    "\n",
    "cor_df28 = pd.DataFrame (data28, columns = ['place', 'latitude', 'longitude', 'amount'])"
   ]
  },
  {
   "cell_type": "code",
   "execution_count": 3,
   "metadata": {},
   "outputs": [
    {
     "data": {
      "text/html": [
       "<div>\n",
       "<style scoped>\n",
       "    .dataframe tbody tr th:only-of-type {\n",
       "        vertical-align: middle;\n",
       "    }\n",
       "\n",
       "    .dataframe tbody tr th {\n",
       "        vertical-align: top;\n",
       "    }\n",
       "\n",
       "    .dataframe thead th {\n",
       "        text-align: right;\n",
       "    }\n",
       "</style>\n",
       "<table border=\"1\" class=\"dataframe\">\n",
       "  <thead>\n",
       "    <tr style=\"text-align: right;\">\n",
       "      <th></th>\n",
       "      <th>place</th>\n",
       "      <th>latitude</th>\n",
       "      <th>longitude</th>\n",
       "      <th>amount</th>\n",
       "    </tr>\n",
       "  </thead>\n",
       "  <tbody>\n",
       "    <tr>\n",
       "      <th>0</th>\n",
       "      <td>Cartago</td>\n",
       "      <td>9.8638</td>\n",
       "      <td>-83.9162</td>\n",
       "      <td>5</td>\n",
       "    </tr>\n",
       "    <tr>\n",
       "      <th>1</th>\n",
       "      <td>La Union</td>\n",
       "      <td>9.9230</td>\n",
       "      <td>-84.0015</td>\n",
       "      <td>7</td>\n",
       "    </tr>\n",
       "    <tr>\n",
       "      <th>2</th>\n",
       "      <td>Alajuela</td>\n",
       "      <td>10.0159</td>\n",
       "      <td>-84.2142</td>\n",
       "      <td>53</td>\n",
       "    </tr>\n",
       "    <tr>\n",
       "      <th>3</th>\n",
       "      <td>San Jose</td>\n",
       "      <td>9.9281</td>\n",
       "      <td>-84.0907</td>\n",
       "      <td>29</td>\n",
       "    </tr>\n",
       "    <tr>\n",
       "      <th>4</th>\n",
       "      <td>Santa Ana</td>\n",
       "      <td>9.9313</td>\n",
       "      <td>-84.1821</td>\n",
       "      <td>16</td>\n",
       "    </tr>\n",
       "  </tbody>\n",
       "</table>\n",
       "</div>"
      ],
      "text/plain": [
       "       place  latitude  longitude  amount\n",
       "0    Cartago    9.8638   -83.9162       5\n",
       "1   La Union    9.9230   -84.0015       7\n",
       "2   Alajuela   10.0159   -84.2142      53\n",
       "3   San Jose    9.9281   -84.0907      29\n",
       "4  Santa Ana    9.9313   -84.1821      16"
      ]
     },
     "execution_count": 3,
     "metadata": {},
     "output_type": "execute_result"
    }
   ],
   "source": [
    "cor_df28.head()"
   ]
  },
  {
   "cell_type": "markdown",
   "metadata": {},
   "source": [
    "Creación del HEATMAP:"
   ]
  },
  {
   "cell_type": "code",
   "execution_count": 4,
   "metadata": {
    "scrolled": false
   },
   "outputs": [
    {
     "data": {
      "application/vnd.jupyter.widget-view+json": {
       "model_id": "424722a1e28a40bb8f155bbc6601fa2a",
       "version_major": 2,
       "version_minor": 0
      },
      "text/plain": [
       "Figure(layout=FigureLayout(height='420px'))"
      ]
     },
     "metadata": {},
     "output_type": "display_data"
    }
   ],
   "source": [
    "cr_coordinates = (9.74, -83.75)\n",
    "locations = cor_df28[['latitude', 'longitude']]\n",
    "weights = cor_df28['amount']\n",
    "#fig = gmaps.figure(center=cr_coordinates, zoom_level=7, map_type='SATELLITE')\n",
    "fig = gmaps.figure(center=cr_coordinates, zoom_level=7, map_type='HYBRID')\n",
    "#fig = gmaps.figure(center=cr_coordinates, zoom_level=7, map_type='TERRAIN')\n",
    "#fig = gmaps.figure(center=cr_coordinates, zoom_level=7, map_type='ROADMAP')\n",
    "fig.add_layer(gmaps.heatmap_layer(locations, weights=weights))\n",
    "fig\n"
   ]
  },
  {
   "cell_type": "markdown",
   "metadata": {},
   "source": [
    "<img src=\"Downloads/28MAR-H.png\">"
   ]
  },
  {
   "cell_type": "code",
   "execution_count": 5,
   "metadata": {
    "scrolled": true
   },
   "outputs": [
    {
     "data": {
      "application/vnd.jupyter.widget-view+json": {
       "model_id": "c065010506df4cc5bf5a8480ba836a9d",
       "version_major": 2,
       "version_minor": 0
      },
      "text/plain": [
       "Figure(layout=FigureLayout(height='420px'))"
      ]
     },
     "metadata": {},
     "output_type": "display_data"
    }
   ],
   "source": [
    "fig = gmaps.figure(center=cr_coordinates, zoom_level=7, map_type='SATELLITE')\n",
    "fig.add_layer(gmaps.heatmap_layer(locations, weights=weights))\n",
    "fig"
   ]
  },
  {
   "cell_type": "markdown",
   "metadata": {},
   "source": [
    "<img src=\"Downloads/28MAR-S.png\">"
   ]
  },
  {
   "cell_type": "code",
   "execution_count": null,
   "metadata": {},
   "outputs": [],
   "source": []
  }
 ],
 "metadata": {
  "kernelspec": {
   "display_name": "Python 3",
   "language": "python",
   "name": "python3"
  },
  "language_info": {
   "codemirror_mode": {
    "name": "ipython",
    "version": 3
   },
   "file_extension": ".py",
   "mimetype": "text/x-python",
   "name": "python",
   "nbconvert_exporter": "python",
   "pygments_lexer": "ipython3",
   "version": "3.8.2"
  }
 },
 "nbformat": 4,
 "nbformat_minor": 4
}
